{
 "cells": [
  {
   "cell_type": "markdown",
   "id": "9966a4c3",
   "metadata": {},
   "source": [
    "**Рішення завдання №1**"
   ]
  },
  {
   "cell_type": "markdown",
   "id": "22619ede-1906-48dd-acd4-5b1b127534fb",
   "metadata": {},
   "source": [
    "За умовою задачі маємо xi=85, xj=95, p=0.9. Розрахуємо математичне сподівання Mx за формулою: Mx=n*p, де n=100."
   ]
  },
  {
   "cell_type": "code",
   "execution_count": 4,
   "id": "5cced365-d64e-480c-ac5e-0e74abcb79e3",
   "metadata": {
    "scrolled": true
   },
   "outputs": [
    {
     "data": {
      "text/plain": [
       "90.0"
      ]
     },
     "execution_count": 4,
     "metadata": {},
     "output_type": "execute_result"
    }
   ],
   "source": [
    "n=100\n",
    "p=0.9\n",
    "Mx=n*p\n",
    "Mx"
   ]
  },
  {
   "cell_type": "markdown",
   "id": "28f3e6d3-58eb-4a9c-8b6d-35612edf0b5b",
   "metadata": {},
   "source": [
    "Розрахуємо дисперсію D(x) за формулою: D(x)=n*p*q, де q=1-p -імовірність, що телевізор не витримає гарантійний термін."
   ]
  },
  {
   "cell_type": "code",
   "execution_count": 5,
   "id": "2f79e65a-49f9-4d60-b2bd-49c9235470ea",
   "metadata": {},
   "outputs": [
    {
     "data": {
      "text/plain": [
       "8.999999999999998"
      ]
     },
     "execution_count": 5,
     "metadata": {},
     "output_type": "execute_result"
    }
   ],
   "source": [
    "n=100\n",
    "p=0.9\n",
    "q=1-p\n",
    "\n",
    "Dx=n*p*q\n",
    "Dx\n",
    "\n"
   ]
  },
  {
   "cell_type": "markdown",
   "id": "feebe2b2-77ff-4f47-a258-a198b06ed066",
   "metadata": {},
   "source": [
    " Розрахуємо середнє квадратичне відхиленя Sx за формулою: Sx=Dx*0.05"
   ]
  },
  {
   "cell_type": "code",
   "execution_count": 15,
   "id": "d43c72a7-cefd-492d-b397-f53a64b8aecf",
   "metadata": {},
   "outputs": [
    {
     "data": {
      "text/plain": [
       "2.9999999999999996"
      ]
     },
     "execution_count": 15,
     "metadata": {},
     "output_type": "execute_result"
    }
   ],
   "source": [
    "Sx=Dx**0.5\n",
    "Sx"
   ]
  },
  {
   "cell_type": "code",
   "execution_count": 19,
   "id": "e85bd988-c72c-491b-bc26-2658a815e660",
   "metadata": {},
   "outputs": [
    {
     "data": {
      "text/plain": [
       "5.0"
      ]
     },
     "execution_count": 19,
     "metadata": {},
     "output_type": "execute_result"
    }
   ],
   "source": [
    "xj=95\n",
    "E=xj-Mx\n",
    "E"
   ]
  },
  {
   "cell_type": "code",
   "execution_count": null,
   "id": "f48a9fc1-a1d3-4293-9262-86a1afdc30b7",
   "metadata": {},
   "outputs": [],
   "source": [
    " Використаємо нерівність Чебишова, щоб знайти ймовірність:    P(|x-Mx|<E)>=(1-Dx)/(E**2)=16/25=0.64"
   ]
  },
  {
   "cell_type": "markdown",
   "id": "21d5a0c4",
   "metadata": {},
   "source": [
    "**Рішення задачі №2**"
   ]
  },
  {
   "cell_type": "markdown",
   "id": "d32aa70a-09be-4985-a9bb-ff6693c159c9",
   "metadata": {},
   "source": [
    "За умовою задачі маємо вибірку: V=[10,13,10,9,9,12,12,6,7,9,8,9,11,9,14,13,9,8,8,7,10,10,11,11,11,12,8,7,9,10,14,13,8,8,9,10,11,11,12,12].\n",
    "Побудуємо дискретний статистичний розподіл цієї вибірки, де xi-варіанта вибірки, а ni-частота."
   ]
  },
  {
   "cell_type": "markdown",
   "id": "72664446-464a-4ece-852d-8ac0a785ce11",
   "metadata": {},
   "source": [
    "|xi|6|7|8|9|10|11|12|13|14|\n",
    "|:---|:---:|:---:|:---:|:---:|:---:|:---:|:---:|:---:|:---:|\n",
    "|ni|1|3|6|8|6|6|5|3|2|"
   ]
  },
  {
   "cell_type": "markdown",
   "id": "eef51bcd-b7b2-415a-aefb-a78d5a8e3c66",
   "metadata": {},
   "source": [
    "Побудуємо полігон частот F*(x) для цієї вибірки."
   ]
  },
  {
   "cell_type": "code",
   "execution_count": 2,
   "id": "d5b4edd0-aa1c-4bc5-96e1-ecb6dc4aed73",
   "metadata": {},
   "outputs": [],
   "source": [
    "import matplotlib.pyplot as plt"
   ]
  },
  {
   "cell_type": "code",
   "execution_count": 3,
   "id": "6b170c79-d102-41bf-92bb-0fb1f4ac5dda",
   "metadata": {},
   "outputs": [
    {
     "data": {
      "image/png": "[encoded data removed]",
      "text/plain": [
       "<Figure size 640x480 with 1 Axes>"
      ]
     },
     "metadata": {},
     "output_type": "display_data"
    }
   ],
   "source": [
    "plt.plot([6,7,8,9,10,11,12,13,14],[1,3,6,8,6,6,5,3,2])\n",
    "plt.show()"
   ]
  },
  {
   "cell_type": "markdown",
   "id": "9aa5739a-d2ef-48fb-86fb-703db9a6a073",
   "metadata": {},
   "source": [
    "Знайдемо моду Mo нашої вибірки, тобто варіанту, яка має найбільшу частоту. Mo=9."
   ]
  },
  {
   "cell_type": "markdown",
   "id": "9e0137d0-48fb-437e-8acd-78dfb43e3893",
   "metadata": {},
   "source": [
    " Запишемо наші варіанти та частоти у вигляді словника numbers={6:1,7:3,8:6,9:8,10:6,11:6,12:5,13:3,14:2} та знайдемо моду Mo.     "
   ]
  },
  {
   "cell_type": "code",
   "execution_count": 12,
   "id": "8d5c5c02-9ad9-4d8d-b932-ac6866cf7327",
   "metadata": {},
   "outputs": [
    {
     "name": "stdout",
     "output_type": "stream",
     "text": [
      "9\n"
     ]
    }
   ],
   "source": [
    "numbers={6:1,7:3,8:6,9:8,10:6,11:6,12:5,13:3,14:2}\n",
    "#використаємо фунуцію dict.get(), яка повертає ключ з максимальним значенням\n",
    "x= max(numbers, key=numbers.get)\n",
    "print(x)    "
   ]
  },
  {
   "cell_type": "markdown",
   "id": "e2b190a1-53ef-4bb2-881d-b4845780f21d",
   "metadata": {},
   "source": [
    " Знайдемо вибіркову меридіану median, тобто число яку поділяє наш статистичний ряд на дві частини, рівні за кількістю варінт"
   ]
  },
  {
   "cell_type": "code",
   "execution_count": 3,
   "id": "767d3b2a-adae-4a26-93e2-d10abeaca103",
   "metadata": {},
   "outputs": [
    {
     "data": {
      "text/plain": [
       "10.0"
      ]
     },
     "execution_count": 3,
     "metadata": {},
     "output_type": "execute_result"
    }
   ],
   "source": [
    "import statistics\n",
    "V=[10,13,10,9,9,12,12,6,7,9,8,9,11,9,14,13,9,8,8,7,10,10,11,11,11,12,8,7,9,10,14,13,8,8,9,10,11,11,12,12]\n",
    "statistics.median(V)"
   ]
  }
 ],
 "metadata": {
  "kernelspec": {
   "display_name": "Python 3 (ipykernel)",
   "language": "python",
   "name": "python3"
  },
  "language_info": {
   "codemirror_mode": {
    "name": "ipython",
    "version": 3
   },
   "file_extension": ".py",
   "mimetype": "text/x-python",
   "name": "python",
   "nbconvert_exporter": "python",
   "pygments_lexer": "ipython3",
   "version": "3.10.11"
  }
 },
 "nbformat": 4,
 "nbformat_minor": 5
}
